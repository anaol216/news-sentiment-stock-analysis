{
 "cells": [
  {
   "cell_type": "code",
   "execution_count": 8,
   "id": "1cb2f57c",
   "metadata": {},
   "outputs": [
    {
     "name": "stdout",
     "output_type": "stream",
     "text": [
      "Columns in AAPL_historical_data.csv: ['Date', 'Open', 'High', 'Low', 'Close', 'Adj Close', 'Volume', 'Dividends', 'Stock Splits']\n",
      "Columns in AMZN_historical_data.csv: ['Date', 'Open', 'High', 'Low', 'Close', 'Adj Close', 'Volume', 'Dividends', 'Stock Splits']\n",
      "Columns in GOOG_historical_data.csv: ['Date', 'Open', 'High', 'Low', 'Close', 'Adj Close', 'Volume', 'Dividends', 'Stock Splits']\n",
      "Columns in META_historical_data.csv: ['Date', 'Open', 'High', 'Low', 'Close', 'Adj Close', 'Volume', 'Dividends', 'Stock Splits']\n",
      "Columns in MSFT_historical_data.csv: ['Date', 'Open', 'High', 'Low', 'Close', 'Adj Close', 'Volume', 'Dividends', 'Stock Splits']\n",
      "Columns in NVDA_historical_data.csv: ['Date      ', ' Open                ', ' High                ', ' Low                 ', ' Close               ', ' Adj Close           ', ' Volume    ', ' Dividends', ' Stock Splits']\n",
      "Columns in TSLA_historical_data.csv: ['Date', 'Open', 'High', 'Low', 'Close', 'Adj Close', 'Volume', 'Dividends', 'Stock Splits']\n"
     ]
    }
   ],
   "source": [
    "import pandas as pd\n",
    "import matplotlib.pyplot as plt\n",
    "import seaborn as sns\n",
    "from glob import glob\n",
    "import os\n",
    "\n",
    "\n",
    "for file_path in glob(r\"C:\\Users\\hp\\Pictures\\10 Academy\\week1\\news-sentiment-stock-analysis\\Data\\yfinance_data\\*_historical_data.csv\"):\n",
    "    df = pd.read_csv(file_path)\n",
    "    print(f\"Columns in {os.path.basename(file_path)}: {df.columns.tolist()}\")\n"
   ]
  },
  {
   "cell_type": "code",
   "execution_count": 11,
   "id": "fe983b51",
   "metadata": {},
   "outputs": [
    {
     "data": {
      "text/html": [
       "<div>\n",
       "<style scoped>\n",
       "    .dataframe tbody tr th:only-of-type {\n",
       "        vertical-align: middle;\n",
       "    }\n",
       "\n",
       "    .dataframe tbody tr th {\n",
       "        vertical-align: top;\n",
       "    }\n",
       "\n",
       "    .dataframe thead th {\n",
       "        text-align: right;\n",
       "    }\n",
       "</style>\n",
       "<table border=\"1\" class=\"dataframe\">\n",
       "  <thead>\n",
       "    <tr style=\"text-align: right;\">\n",
       "      <th></th>\n",
       "      <th>Date</th>\n",
       "      <th>Open</th>\n",
       "      <th>High</th>\n",
       "      <th>Low</th>\n",
       "      <th>Close</th>\n",
       "      <th>Adj Close</th>\n",
       "      <th>Volume</th>\n",
       "      <th>Dividends</th>\n",
       "      <th>Stock Splits</th>\n",
       "      <th>stock</th>\n",
       "    </tr>\n",
       "  </thead>\n",
       "  <tbody>\n",
       "    <tr>\n",
       "      <th>0</th>\n",
       "      <td>1980-12-12</td>\n",
       "      <td>0.128348</td>\n",
       "      <td>0.128906</td>\n",
       "      <td>0.128348</td>\n",
       "      <td>0.128348</td>\n",
       "      <td>0.098943</td>\n",
       "      <td>469033600</td>\n",
       "      <td>0.0</td>\n",
       "      <td>0.0</td>\n",
       "      <td>AAPL</td>\n",
       "    </tr>\n",
       "    <tr>\n",
       "      <th>1</th>\n",
       "      <td>1980-12-15</td>\n",
       "      <td>0.122210</td>\n",
       "      <td>0.122210</td>\n",
       "      <td>0.121652</td>\n",
       "      <td>0.121652</td>\n",
       "      <td>0.093781</td>\n",
       "      <td>175884800</td>\n",
       "      <td>0.0</td>\n",
       "      <td>0.0</td>\n",
       "      <td>AAPL</td>\n",
       "    </tr>\n",
       "    <tr>\n",
       "      <th>2</th>\n",
       "      <td>1980-12-16</td>\n",
       "      <td>0.113281</td>\n",
       "      <td>0.113281</td>\n",
       "      <td>0.112723</td>\n",
       "      <td>0.112723</td>\n",
       "      <td>0.086898</td>\n",
       "      <td>105728000</td>\n",
       "      <td>0.0</td>\n",
       "      <td>0.0</td>\n",
       "      <td>AAPL</td>\n",
       "    </tr>\n",
       "    <tr>\n",
       "      <th>3</th>\n",
       "      <td>1980-12-17</td>\n",
       "      <td>0.115513</td>\n",
       "      <td>0.116071</td>\n",
       "      <td>0.115513</td>\n",
       "      <td>0.115513</td>\n",
       "      <td>0.089049</td>\n",
       "      <td>86441600</td>\n",
       "      <td>0.0</td>\n",
       "      <td>0.0</td>\n",
       "      <td>AAPL</td>\n",
       "    </tr>\n",
       "    <tr>\n",
       "      <th>4</th>\n",
       "      <td>1980-12-18</td>\n",
       "      <td>0.118862</td>\n",
       "      <td>0.119420</td>\n",
       "      <td>0.118862</td>\n",
       "      <td>0.118862</td>\n",
       "      <td>0.091630</td>\n",
       "      <td>73449600</td>\n",
       "      <td>0.0</td>\n",
       "      <td>0.0</td>\n",
       "      <td>AAPL</td>\n",
       "    </tr>\n",
       "  </tbody>\n",
       "</table>\n",
       "</div>"
      ],
      "text/plain": [
       "        Date      Open      High       Low     Close  Adj Close     Volume  \\\n",
       "0 1980-12-12  0.128348  0.128906  0.128348  0.128348   0.098943  469033600   \n",
       "1 1980-12-15  0.122210  0.122210  0.121652  0.121652   0.093781  175884800   \n",
       "2 1980-12-16  0.113281  0.113281  0.112723  0.112723   0.086898  105728000   \n",
       "3 1980-12-17  0.115513  0.116071  0.115513  0.115513   0.089049   86441600   \n",
       "4 1980-12-18  0.118862  0.119420  0.118862  0.118862   0.091630   73449600   \n",
       "\n",
       "   Dividends  Stock Splits stock  \n",
       "0        0.0           0.0  AAPL  \n",
       "1        0.0           0.0  AAPL  \n",
       "2        0.0           0.0  AAPL  \n",
       "3        0.0           0.0  AAPL  \n",
       "4        0.0           0.0  AAPL  "
      ]
     },
     "execution_count": 11,
     "metadata": {},
     "output_type": "execute_result"
    }
   ],
   "source": [
    "\n",
    "stock_data = {}\n",
    "\n",
    "for file_path in glob(r\"C:\\Users\\hp\\Pictures\\10 Academy\\week1\\news-sentiment-stock-analysis\\Data\\yfinance_data\\*_historical_data.csv\"):\n",
    "    df = pd.read_csv(file_path)\n",
    "\n",
    "    df.columns = df.columns.str.strip()\n",
    "  \n",
    "    df['Date'] = pd.to_datetime(df['Date'])\n",
    "    \n",
    "    ticker = os.path.basename(file_path).split(\"_\")[0]\n",
    "    df['stock'] = ticker\n",
    "    stock_data[ticker] = df\n",
    "\n",
    "stock_prices = pd.concat(stock_data.values(), ignore_index=True)\n",
    "stock_prices.head()"
   ]
  },
  {
   "cell_type": "code",
   "execution_count": 14,
   "id": "8a42f9b4",
   "metadata": {},
   "outputs": [
    {
     "data": {
      "text/html": [
       "<div>\n",
       "<style scoped>\n",
       "    .dataframe tbody tr th:only-of-type {\n",
       "        vertical-align: middle;\n",
       "    }\n",
       "\n",
       "    .dataframe tbody tr th {\n",
       "        vertical-align: top;\n",
       "    }\n",
       "\n",
       "    .dataframe thead th {\n",
       "        text-align: right;\n",
       "    }\n",
       "</style>\n",
       "<table border=\"1\" class=\"dataframe\">\n",
       "  <thead>\n",
       "    <tr style=\"text-align: right;\">\n",
       "      <th></th>\n",
       "      <th>Date</th>\n",
       "      <th>stock</th>\n",
       "      <th>polarity</th>\n",
       "    </tr>\n",
       "  </thead>\n",
       "  <tbody>\n",
       "    <tr>\n",
       "      <th>0</th>\n",
       "      <td>2011-04-27 21:01:48-04:00</td>\n",
       "      <td>DGP</td>\n",
       "      <td>0.000000</td>\n",
       "    </tr>\n",
       "    <tr>\n",
       "      <th>1</th>\n",
       "      <td>2011-04-28 13:49:29-04:00</td>\n",
       "      <td>ESR</td>\n",
       "      <td>0.136364</td>\n",
       "    </tr>\n",
       "    <tr>\n",
       "      <th>2</th>\n",
       "      <td>2011-04-28 15:00:36-04:00</td>\n",
       "      <td>DEJ</td>\n",
       "      <td>0.000000</td>\n",
       "    </tr>\n",
       "    <tr>\n",
       "      <th>3</th>\n",
       "      <td>2011-04-29 13:47:06-04:00</td>\n",
       "      <td>AIA</td>\n",
       "      <td>-0.166667</td>\n",
       "    </tr>\n",
       "    <tr>\n",
       "      <th>4</th>\n",
       "      <td>2011-04-29 16:11:05-04:00</td>\n",
       "      <td>GDL</td>\n",
       "      <td>0.500000</td>\n",
       "    </tr>\n",
       "  </tbody>\n",
       "</table>\n",
       "</div>"
      ],
      "text/plain": [
       "                       Date stock  polarity\n",
       "0 2011-04-27 21:01:48-04:00   DGP  0.000000\n",
       "1 2011-04-28 13:49:29-04:00   ESR  0.136364\n",
       "2 2011-04-28 15:00:36-04:00   DEJ  0.000000\n",
       "3 2011-04-29 13:47:06-04:00   AIA -0.166667\n",
       "4 2011-04-29 16:11:05-04:00   GDL  0.500000"
      ]
     },
     "execution_count": 14,
     "metadata": {},
     "output_type": "execute_result"
    }
   ],
   "source": [
    "sentiment_df = pd.read_csv(r\"C:\\Users\\hp\\Pictures\\10 Academy\\week1\\news-sentiment-stock-analysis\\Data/sentiment_by_stock_date.csv\", parse_dates=[\"date\"])\n",
    "sentiment_df.rename(columns={\"date\": \"Date\"}, inplace=True)\n",
    "sentiment_df.head()\n"
   ]
  },
  {
   "cell_type": "code",
   "execution_count": 18,
   "id": "0ddf003e",
   "metadata": {},
   "outputs": [
    {
     "name": "stdout",
     "output_type": "stream",
     "text": [
      "datetime64[ns]\n",
      "datetime64[ns, UTC-04:00]\n"
     ]
    },
    {
     "data": {
      "text/plain": [
       "<Figure size 1500x600 with 0 Axes>"
      ]
     },
     "metadata": {},
     "output_type": "display_data"
    },
    {
     "data": {
      "image/png": "[encoded data removed]",
      "text/plain": [
       "<Figure size 1500x600 with 2 Axes>"
      ]
     },
     "metadata": {},
     "output_type": "display_data"
    }
   ],
   "source": [
    "print(stock_prices['Date'].dtype)\n",
    "print(sentiment_df['Date'].dtype)\n",
    "\n",
    "sentiment_df['Date'] = sentiment_df['Date'].dt.tz_localize(None)\n",
    "\n",
    "merged_df = pd.merge(\n",
    "    stock_prices,\n",
    "    sentiment_df,\n",
    "    how=\"left\",\n",
    "    left_on=[\"Date\", \"stock\"],\n",
    "    right_on=[\"Date\", \"stock\"]\n",
    ")\n",
    "\n",
    "\n",
    "plt.figure(figsize=(15, 6))\n",
    "ticker = \"AAPL\"\n",
    "subset = merged_df[merged_df[\"stock\"] == ticker]\n",
    "\n",
    "ax1 = subset.plot(x=\"Date\", y=\"Close\", title=f\"{ticker} - Close Price and Sentiment\", figsize=(15, 6))\n",
    "ax2 = ax1.twinx()\n",
    "subset.plot(x=\"Date\", y=\"polarity\", ax=ax2, color=\"orange\", alpha=0.6)\n",
    "ax1.set_ylabel(\"Close Price\")\n",
    "ax2.set_ylabel(\"Sentiment Polarity\")\n",
    "plt.grid()\n",
    "plt.show()\n"
   ]
  },
  {
   "cell_type": "code",
   "execution_count": null,
   "id": "3f6e2091",
   "metadata": {},
   "outputs": [],
   "source": [
    "# Check correlation between sentiment polarity and price changes\n",
    "merged_df[\"Price_Change\"] = merged_df.groupby(\"stock\")[\"Close\"].pct_change()\n",
    "correlation = merged_df[[\"polarity\", \"Price_Change\"]].corr()\n",
    "correlation\n"
   ]
  }
 ],
 "metadata": {
  "kernelspec": {
   "display_name": "venv",
   "language": "python",
   "name": "python3"
  },
  "language_info": {
   "codemirror_mode": {
    "name": "ipython",
    "version": 3
   },
   "file_extension": ".py",
   "mimetype": "text/x-python",
   "name": "python",
   "nbconvert_exporter": "python",
   "pygments_lexer": "ipython3",
   "version": "3.10.11"
  }
 },
 "nbformat": 4,
 "nbformat_minor": 5
}
