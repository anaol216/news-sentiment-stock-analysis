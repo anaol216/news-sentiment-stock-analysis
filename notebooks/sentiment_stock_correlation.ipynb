{
 "cells": [
  {
   "cell_type": "code",
   "execution_count": 43,
   "id": "53bf90a2",
   "metadata": {},
   "outputs": [
    {
     "name": "stderr",
     "output_type": "stream",
     "text": [
      "[nltk_data] Downloading package punkt to\n",
      "[nltk_data]     C:\\Users\\hp\\AppData\\Roaming\\nltk_data...\n",
      "[nltk_data]   Package punkt is already up-to-date!\n"
     ]
    },
    {
     "data": {
      "text/plain": [
       "True"
      ]
     },
     "execution_count": 43,
     "metadata": {},
     "output_type": "execute_result"
    }
   ],
   "source": [
    "import pandas as pd\n",
    "import numpy as np\n",
    "import matplotlib.pyplot as plt\n",
    "import seaborn as sns\n",
    "import yfinance as yf\n",
    "from textblob import TextBlob\n",
    "import nltk\n",
    "nltk.download('punkt')  # Needed for TextBlob\n"
   ]
  },
  {
   "cell_type": "code",
   "execution_count": 44,
   "id": "fcde63ea",
   "metadata": {},
   "outputs": [
    {
     "name": "stderr",
     "output_type": "stream",
     "text": [
      "[*********************100%***********************]  1 of 1 completed\n"
     ]
    },
    {
     "data": {
      "text/html": [
       "<div>\n",
       "<style scoped>\n",
       "    .dataframe tbody tr th:only-of-type {\n",
       "        vertical-align: middle;\n",
       "    }\n",
       "\n",
       "    .dataframe tbody tr th {\n",
       "        vertical-align: top;\n",
       "    }\n",
       "\n",
       "    .dataframe thead tr th {\n",
       "        text-align: left;\n",
       "    }\n",
       "</style>\n",
       "<table border=\"1\" class=\"dataframe\">\n",
       "  <thead>\n",
       "    <tr>\n",
       "      <th>Price</th>\n",
       "      <th>Date</th>\n",
       "      <th>Close</th>\n",
       "      <th>High</th>\n",
       "      <th>Low</th>\n",
       "      <th>Open</th>\n",
       "      <th>Volume</th>\n",
       "    </tr>\n",
       "    <tr>\n",
       "      <th>Ticker</th>\n",
       "      <th></th>\n",
       "      <th>AAPL</th>\n",
       "      <th>AAPL</th>\n",
       "      <th>AAPL</th>\n",
       "      <th>AAPL</th>\n",
       "      <th>AAPL</th>\n",
       "    </tr>\n",
       "  </thead>\n",
       "  <tbody>\n",
       "    <tr>\n",
       "      <th>0</th>\n",
       "      <td>2011-01-03</td>\n",
       "      <td>9.904959</td>\n",
       "      <td>9.925696</td>\n",
       "      <td>9.762803</td>\n",
       "      <td>9.786846</td>\n",
       "      <td>445138400</td>\n",
       "    </tr>\n",
       "    <tr>\n",
       "      <th>1</th>\n",
       "      <td>2011-01-04</td>\n",
       "      <td>9.956651</td>\n",
       "      <td>9.993016</td>\n",
       "      <td>9.862280</td>\n",
       "      <td>9.991213</td>\n",
       "      <td>309080800</td>\n",
       "    </tr>\n",
       "    <tr>\n",
       "      <th>2</th>\n",
       "      <td>2011-01-05</td>\n",
       "      <td>10.038098</td>\n",
       "      <td>10.048317</td>\n",
       "      <td>9.902855</td>\n",
       "      <td>9.904358</td>\n",
       "      <td>255519600</td>\n",
       "    </tr>\n",
       "    <tr>\n",
       "      <th>3</th>\n",
       "      <td>2011-01-06</td>\n",
       "      <td>10.029985</td>\n",
       "      <td>10.075667</td>\n",
       "      <td>10.005040</td>\n",
       "      <td>10.059739</td>\n",
       "      <td>300428800</td>\n",
       "    </tr>\n",
       "    <tr>\n",
       "      <th>4</th>\n",
       "      <td>2011-01-07</td>\n",
       "      <td>10.101811</td>\n",
       "      <td>10.108724</td>\n",
       "      <td>9.974982</td>\n",
       "      <td>10.037796</td>\n",
       "      <td>311931200</td>\n",
       "    </tr>\n",
       "  </tbody>\n",
       "</table>\n",
       "</div>"
      ],
      "text/plain": [
       "Price        Date      Close       High        Low       Open     Volume\n",
       "Ticker                  AAPL       AAPL       AAPL       AAPL       AAPL\n",
       "0      2011-01-03   9.904959   9.925696   9.762803   9.786846  445138400\n",
       "1      2011-01-04   9.956651   9.993016   9.862280   9.991213  309080800\n",
       "2      2011-01-05  10.038098  10.048317   9.902855   9.904358  255519600\n",
       "3      2011-01-06  10.029985  10.075667  10.005040  10.059739  300428800\n",
       "4      2011-01-07  10.101811  10.108724   9.974982  10.037796  311931200"
      ]
     },
     "execution_count": 44,
     "metadata": {},
     "output_type": "execute_result"
    }
   ],
   "source": [
    "ticker = \"AAPL\"\n",
    "stock_data = yf.download(ticker, start=\"2011-01-01\", end=\"2012-12-31\")  # adjust this range as needed\n",
    "stock_data.reset_index(inplace=True)\n",
    "stock_data.head()\n"
   ]
  },
  {
   "cell_type": "code",
   "execution_count": 45,
   "id": "7147f74c",
   "metadata": {},
   "outputs": [
    {
     "name": "stdout",
     "output_type": "stream",
     "text": [
      "['date                     ', ' stock', ' polarity']\n"
     ]
    }
   ],
   "source": [
    "news_df = pd.read_csv(r\"C:\\Users\\hp\\Pictures\\10 Academy\\week1\\news-sentiment-stock-analysis\\Data\\sentiment_by_stock_date.csv\")\n",
    "print(news_df.columns.tolist())\n"
   ]
  },
  {
   "cell_type": "code",
   "execution_count": 46,
   "id": "f99ae98c",
   "metadata": {},
   "outputs": [
    {
     "name": "stdout",
     "output_type": "stream",
     "text": [
      "         date   stock  polarity\n",
      "0  2011-04-27   DGP    0.000000\n",
      "1  2011-04-28   ESR    0.136364\n",
      "2  2011-04-28   DEJ    0.000000\n",
      "3  2011-04-29   AIA   -0.166667\n",
      "4  2011-04-29   GDL    0.500000\n"
     ]
    }
   ],
   "source": [
    "news_df = pd.read_csv(r\"C:\\Users\\hp\\Pictures\\10 Academy\\week1\\news-sentiment-stock-analysis\\Data\\sentiment_by_stock_date.csv\")\n",
    "\n",
    "news_df.columns = news_df.columns.str.strip()\n",
    "news_df['date'] = pd.to_datetime(news_df['date'], errors=\"coerce\").dt.date\n",
    "\n",
    "print(news_df.head())\n"
   ]
  },
  {
   "cell_type": "code",
   "execution_count": 47,
   "metadata": {},
   "outputs": [
    {
     "data": {
      "text/html": [
       "<div>\n",
       "<style scoped>\n",
       "    .dataframe tbody tr th:only-of-type {\n",
       "        vertical-align: middle;\n",
       "    }\n",
       "\n",
       "    .dataframe tbody tr th {\n",
       "        vertical-align: top;\n",
       "    }\n",
       "\n",
       "    .dataframe thead th {\n",
       "        text-align: right;\n",
       "    }\n",
       "</style>\n",
       "<table border=\"1\" class=\"dataframe\">\n",
       "  <thead>\n",
       "    <tr style=\"text-align: right;\">\n",
       "      <th></th>\n",
       "      <th>date</th>\n",
       "      <th>stock</th>\n",
       "      <th>polarity</th>\n",
       "      <th>sentiment</th>\n",
       "    </tr>\n",
       "  </thead>\n",
       "  <tbody>\n",
       "    <tr>\n",
       "      <th>0</th>\n",
       "      <td>2011-04-27</td>\n",
       "      <td>DGP</td>\n",
       "      <td>0.000000</td>\n",
       "      <td>0.0</td>\n",
       "    </tr>\n",
       "    <tr>\n",
       "      <th>1</th>\n",
       "      <td>2011-04-28</td>\n",
       "      <td>ESR</td>\n",
       "      <td>0.136364</td>\n",
       "      <td>0.0</td>\n",
       "    </tr>\n",
       "    <tr>\n",
       "      <th>2</th>\n",
       "      <td>2011-04-28</td>\n",
       "      <td>DEJ</td>\n",
       "      <td>0.000000</td>\n",
       "      <td>0.0</td>\n",
       "    </tr>\n",
       "    <tr>\n",
       "      <th>3</th>\n",
       "      <td>2011-04-29</td>\n",
       "      <td>AIA</td>\n",
       "      <td>-0.166667</td>\n",
       "      <td>0.0</td>\n",
       "    </tr>\n",
       "    <tr>\n",
       "      <th>4</th>\n",
       "      <td>2011-04-29</td>\n",
       "      <td>GDL</td>\n",
       "      <td>0.500000</td>\n",
       "      <td>0.0</td>\n",
       "    </tr>\n",
       "  </tbody>\n",
       "</table>\n",
       "</div>"
      ],
      "text/plain": [
       "         date   stock  polarity  sentiment\n",
       "0  2011-04-27   DGP    0.000000        0.0\n",
       "1  2011-04-28   ESR    0.136364        0.0\n",
       "2  2011-04-28   DEJ    0.000000        0.0\n",
       "3  2011-04-29   AIA   -0.166667        0.0\n",
       "4  2011-04-29   GDL    0.500000        0.0"
      ]
     },
     "execution_count": 47,
     "metadata": {},
     "output_type": "execute_result"
    }
   ],
   "source": [
    "def get_sentiment(text):\n",
    "    return TextBlob(text).sentiment.polarity\n",
    "\n",
    "news_df['sentiment'] = news_df['stock'].astype(str).apply(get_sentiment)\n",
    "news_df.head()\n"
   ]
  },
  {
   "cell_type": "code",
   "execution_count": 48,
   "id": "9d2bc5d4",
   "metadata": {},
   "outputs": [
    {
     "data": {
      "text/html": [
       "<div>\n",
       "<style scoped>\n",
       "    .dataframe tbody tr th:only-of-type {\n",
       "        vertical-align: middle;\n",
       "    }\n",
       "\n",
       "    .dataframe tbody tr th {\n",
       "        vertical-align: top;\n",
       "    }\n",
       "\n",
       "    .dataframe thead th {\n",
       "        text-align: right;\n",
       "    }\n",
       "</style>\n",
       "<table border=\"1\" class=\"dataframe\">\n",
       "  <thead>\n",
       "    <tr style=\"text-align: right;\">\n",
       "      <th></th>\n",
       "      <th>date</th>\n",
       "      <th>avg_sentiment</th>\n",
       "    </tr>\n",
       "  </thead>\n",
       "  <tbody>\n",
       "    <tr>\n",
       "      <th>0</th>\n",
       "      <td>2011-04-27</td>\n",
       "      <td>0.0</td>\n",
       "    </tr>\n",
       "    <tr>\n",
       "      <th>1</th>\n",
       "      <td>2011-04-28</td>\n",
       "      <td>0.0</td>\n",
       "    </tr>\n",
       "    <tr>\n",
       "      <th>2</th>\n",
       "      <td>2011-04-29</td>\n",
       "      <td>0.0</td>\n",
       "    </tr>\n",
       "    <tr>\n",
       "      <th>3</th>\n",
       "      <td>2011-04-30</td>\n",
       "      <td>0.0</td>\n",
       "    </tr>\n",
       "    <tr>\n",
       "      <th>4</th>\n",
       "      <td>2011-05-01</td>\n",
       "      <td>0.0</td>\n",
       "    </tr>\n",
       "  </tbody>\n",
       "</table>\n",
       "</div>"
      ],
      "text/plain": [
       "         date  avg_sentiment\n",
       "0  2011-04-27            0.0\n",
       "1  2011-04-28            0.0\n",
       "2  2011-04-29            0.0\n",
       "3  2011-04-30            0.0\n",
       "4  2011-05-01            0.0"
      ]
     },
     "execution_count": 48,
     "metadata": {},
     "output_type": "execute_result"
    }
   ],
   "source": [
    "# Average sentiment per day\n",
    "daily_sentiment = news_df.groupby('date')['sentiment'].mean().reset_index()\n",
    "daily_sentiment.rename(columns={\"sentiment\": \"avg_sentiment\"}, inplace=True)\n",
    "daily_sentiment.head()\n"
   ]
  },
  {
   "cell_type": "code",
   "execution_count": 49,
   "id": "c54529e8",
   "metadata": {},
   "outputs": [
    {
     "name": "stdout",
     "output_type": "stream",
     "text": [
      "MultiIndex([(  'Date',     ''),\n",
      "            ( 'Close', 'AAPL'),\n",
      "            (  'High', 'AAPL'),\n",
      "            (   'Low', 'AAPL'),\n",
      "            (  'Open', 'AAPL'),\n",
      "            ('Volume', 'AAPL')],\n",
      "           names=['Price', 'Ticker'])\n"
     ]
    }
   ],
   "source": [
    "print(stock_data.columns)\n"
   ]
  },
  {
   "cell_type": "code",
   "execution_count": 50,
   "id": "3110c984",
   "metadata": {},
   "outputs": [
    {
     "data": {
      "text/html": [
       "<div>\n",
       "<style scoped>\n",
       "    .dataframe tbody tr th:only-of-type {\n",
       "        vertical-align: middle;\n",
       "    }\n",
       "\n",
       "    .dataframe tbody tr th {\n",
       "        vertical-align: top;\n",
       "    }\n",
       "\n",
       "    .dataframe thead tr th {\n",
       "        text-align: left;\n",
       "    }\n",
       "</style>\n",
       "<table border=\"1\" class=\"dataframe\">\n",
       "  <thead>\n",
       "    <tr>\n",
       "      <th>Price</th>\n",
       "      <th>Date</th>\n",
       "      <th>Close</th>\n",
       "      <th>High</th>\n",
       "      <th>Low</th>\n",
       "      <th>Open</th>\n",
       "      <th>Volume</th>\n",
       "      <th>date</th>\n",
       "      <th>daily_return</th>\n",
       "    </tr>\n",
       "    <tr>\n",
       "      <th>Ticker</th>\n",
       "      <th></th>\n",
       "      <th>AAPL</th>\n",
       "      <th>AAPL</th>\n",
       "      <th>AAPL</th>\n",
       "      <th>AAPL</th>\n",
       "      <th>AAPL</th>\n",
       "      <th></th>\n",
       "      <th></th>\n",
       "    </tr>\n",
       "  </thead>\n",
       "  <tbody>\n",
       "    <tr>\n",
       "      <th>1</th>\n",
       "      <td>2011-01-04</td>\n",
       "      <td>9.956651</td>\n",
       "      <td>9.993016</td>\n",
       "      <td>9.862280</td>\n",
       "      <td>9.991213</td>\n",
       "      <td>309080800</td>\n",
       "      <td>2011-01-04</td>\n",
       "      <td>0.005219</td>\n",
       "    </tr>\n",
       "    <tr>\n",
       "      <th>2</th>\n",
       "      <td>2011-01-05</td>\n",
       "      <td>10.038098</td>\n",
       "      <td>10.048317</td>\n",
       "      <td>9.902855</td>\n",
       "      <td>9.904358</td>\n",
       "      <td>255519600</td>\n",
       "      <td>2011-01-05</td>\n",
       "      <td>0.008180</td>\n",
       "    </tr>\n",
       "    <tr>\n",
       "      <th>3</th>\n",
       "      <td>2011-01-06</td>\n",
       "      <td>10.029985</td>\n",
       "      <td>10.075667</td>\n",
       "      <td>10.005040</td>\n",
       "      <td>10.059739</td>\n",
       "      <td>300428800</td>\n",
       "      <td>2011-01-06</td>\n",
       "      <td>-0.000808</td>\n",
       "    </tr>\n",
       "    <tr>\n",
       "      <th>4</th>\n",
       "      <td>2011-01-07</td>\n",
       "      <td>10.101811</td>\n",
       "      <td>10.108724</td>\n",
       "      <td>9.974982</td>\n",
       "      <td>10.037796</td>\n",
       "      <td>311931200</td>\n",
       "      <td>2011-01-07</td>\n",
       "      <td>0.007161</td>\n",
       "    </tr>\n",
       "    <tr>\n",
       "      <th>5</th>\n",
       "      <td>2011-01-10</td>\n",
       "      <td>10.292055</td>\n",
       "      <td>10.315497</td>\n",
       "      <td>10.133369</td>\n",
       "      <td>10.183259</td>\n",
       "      <td>448560000</td>\n",
       "      <td>2011-01-10</td>\n",
       "      <td>0.018833</td>\n",
       "    </tr>\n",
       "  </tbody>\n",
       "</table>\n",
       "</div>"
      ],
      "text/plain": [
       "Price        Date      Close       High        Low       Open     Volume  \\\n",
       "Ticker                  AAPL       AAPL       AAPL       AAPL       AAPL   \n",
       "1      2011-01-04   9.956651   9.993016   9.862280   9.991213  309080800   \n",
       "2      2011-01-05  10.038098  10.048317   9.902855   9.904358  255519600   \n",
       "3      2011-01-06  10.029985  10.075667  10.005040  10.059739  300428800   \n",
       "4      2011-01-07  10.101811  10.108724   9.974982  10.037796  311931200   \n",
       "5      2011-01-10  10.292055  10.315497  10.133369  10.183259  448560000   \n",
       "\n",
       "Price         date daily_return  \n",
       "Ticker                           \n",
       "1       2011-01-04     0.005219  \n",
       "2       2011-01-05     0.008180  \n",
       "3       2011-01-06    -0.000808  \n",
       "4       2011-01-07     0.007161  \n",
       "5       2011-01-10     0.018833  "
      ]
     },
     "execution_count": 50,
     "metadata": {},
     "output_type": "execute_result"
    }
   ],
   "source": [
    "stock_data['Date'] = pd.to_datetime(stock_data['Date'], errors='coerce')\n",
    "\n",
    "stock_data['date'] = stock_data['Date'].dt.date\n",
    "stock_data['daily_return'] = stock_data['Close'].pct_change()\n",
    "\n",
    "# Calculate daily return using the correct MultiIndex reference\n",
    "stock_data[('daily_return', '')] = stock_data[('Close', 'AAPL')].pct_change()\n",
    "stock_data = stock_data.dropna(subset=[('daily_return', '')])\n",
    "\n",
    "stock_data.head()\n"
   ]
  },
  {
   "cell_type": "code",
   "execution_count": 51,
   "id": "a953a5d4",
   "metadata": {},
   "outputs": [
    {
     "name": "stdout",
     "output_type": "stream",
     "text": [
      "Index(['date', 'avg_sentiment'], dtype='object')\n"
     ]
    }
   ],
   "source": [
    "print(daily_sentiment.columns)"
   ]
  },
  {
   "cell_type": "code",
   "execution_count": 52,
   "id": "ed0a336b",
   "metadata": {},
   "outputs": [
    {
     "name": "stdout",
     "output_type": "stream",
     "text": [
      "Index(['Date_', 'Close_AAPL', 'High_AAPL', 'Low_AAPL', 'Open_AAPL',\n",
      "       'Volume_AAPL', 'date', 'daily_return_'],\n",
      "      dtype='object')\n"
     ]
    }
   ],
   "source": [
    "# Flatten the MultiIndex columns in stock_data\n",
    "stock_data.columns = ['_'.join(col).strip() if isinstance(col, tuple) else col for col in stock_data.columns]\n",
    "\n",
    "\n",
    "stock_data.rename(columns={'date_': 'date'}, inplace=True)\n",
    "\n",
    "print(stock_data.columns) \n"
   ]
  },
  {
   "cell_type": "code",
   "execution_count": 53,
   "id": "5876f370",
   "metadata": {},
   "outputs": [],
   "source": [
    "\n",
    "# Ensure both are in datetime.date format\n",
    "stock_data['date'] = pd.to_datetime(stock_data['date'], errors='coerce').dt.date\n",
    "daily_sentiment['date'] = pd.to_datetime(daily_sentiment['date'], errors='coerce').dt.date\n"
   ]
  },
  {
   "cell_type": "code",
   "execution_count": 54,
   "id": "6a5a139f",
   "metadata": {},
   "outputs": [
    {
     "name": "stdout",
     "output_type": "stream",
     "text": [
      "object\n",
      "object\n"
     ]
    }
   ],
   "source": [
    "print(stock_data['date'].dtype)\n",
    "print(daily_sentiment['date'].dtype)\n"
   ]
  },
  {
   "cell_type": "code",
   "execution_count": 56,
   "id": "0f6888be",
   "metadata": {},
   "outputs": [
    {
     "name": "stdout",
     "output_type": "stream",
     "text": [
      "Number of common dates: 390\n",
      "[datetime.date(2011, 4, 27), datetime.date(2011, 4, 28), datetime.date(2011, 4, 29), datetime.date(2011, 5, 2), datetime.date(2011, 5, 3), datetime.date(2011, 5, 5), datetime.date(2011, 5, 6), datetime.date(2011, 5, 9), datetime.date(2011, 5, 11), datetime.date(2011, 5, 12)]\n"
     ]
    }
   ],
   "source": [
    "# Check unique values\n",
    "stock_dates = set(stock_data['date'].dropna().unique())\n",
    "sentiment_dates = set(daily_sentiment['date'].dropna().unique())\n",
    "\n",
    "# Intersect\n",
    "common_dates = stock_dates.intersection(sentiment_dates)\n",
    "print(f\"Number of common dates: {len(common_dates)}\")\n",
    "\n",
    "# Optionally see a few of them\n",
    "print(sorted(list(common_dates))[:10])\n"
   ]
  },
  {
   "cell_type": "code",
   "execution_count": 59,
   "id": "50c1d1dc",
   "metadata": {},
   "outputs": [
    {
     "name": "stdout",
     "output_type": "stream",
     "text": [
      "       Date_  Close_AAPL  High_AAPL   Low_AAPL  Open_AAPL  Volume_AAPL  \\\n",
      "0 2011-04-27   10.523476  10.589596  10.431811  10.586289    356213200   \n",
      "1 2011-04-28   10.421290  10.511452  10.384323  10.404460    360959200   \n",
      "2 2011-04-29   10.522873  10.637679  10.418885  10.422191   1006345200   \n",
      "3 2011-05-02   10.407163  10.533090  10.383721  10.511150    442713600   \n",
      "4 2011-05-03   10.464866  10.515657  10.387326  10.458555    313348000   \n",
      "\n",
      "         date  daily_return_  avg_sentiment  \n",
      "0  2011-04-27      -0.000770            0.0  \n",
      "1  2011-04-28      -0.009710            0.0  \n",
      "2  2011-04-29       0.009748            0.0  \n",
      "3  2011-05-02      -0.010996            0.0  \n",
      "4  2011-05-03       0.005545            0.0  \n",
      "Rows after merge: 390\n"
     ]
    }
   ],
   "source": [
    "merged_df = pd.merge(stock_data, daily_sentiment, on='date', how='inner')\n",
    "print(merged_df.head())\n",
    "print(f\"Rows after merge: {len(merged_df)}\")\n"
   ]
  },
  {
   "cell_type": "code",
   "execution_count": 60,
   "id": "5772fd87",
   "metadata": {},
   "outputs": [
    {
     "name": "stdout",
     "output_type": "stream",
     "text": [
      "Pearson Correlation between Sentiment and Stock Return: -0.0106\n"
     ]
    }
   ],
   "source": [
    "# Pearson correlation between sentiment and daily returns\n",
    "correlation = merged_df['avg_sentiment'].corr(merged_df['daily_return_'])\n",
    "print(f\"Pearson Correlation between Sentiment and Stock Return: {correlation:.4f}\")\n"
   ]
  },
  {
   "cell_type": "code",
   "execution_count": 61,
   "id": "b5903ec9",
   "metadata": {},
   "outputs": [
    {
     "data": {
      "image/png": "[encoded data removed]",
      "text/plain": [
       "<Figure size 1000x600 with 1 Axes>"
      ]
     },
     "metadata": {},
     "output_type": "display_data"
    }
   ],
   "source": [
    "# Scatter plot with regression line\n",
    "plt.figure(figsize=(10, 6))\n",
    "sns.regplot(data=merged_df, x='avg_sentiment', y='daily_return_', line_kws={\"color\": \"red\"})\n",
    "plt.title(\"Correlation between Daily News Sentiment and Stock Returns\")\n",
    "plt.xlabel(\"Average Daily Sentiment\")\n",
    "plt.ylabel(\"Daily Stock Return\")\n",
    "plt.grid(True)\n",
    "plt.show()\n"
   ]
  },
  {
   "cell_type": "code",
   "execution_count": 63,
   "id": "04d7add7",
   "metadata": {},
   "outputs": [],
   "source": [
    "merged_df.to_csv(r\"C:\\Users\\hp\\Pictures\\10 Academy\\week1\\news-sentiment-stock-analysis\\Data/merged_sentiment_stock.csv\", index=False)\n"
   ]
  }
 ],
 "metadata": {
  "kernelspec": {
   "display_name": "venv",
   "language": "python",
   "name": "python3"
  },
  "language_info": {
   "codemirror_mode": {
    "name": "ipython",
    "version": 3
   },
   "file_extension": ".py",
   "mimetype": "text/x-python",
   "name": "python",
   "nbconvert_exporter": "python",
   "pygments_lexer": "ipython3",
   "version": "3.10.11"
  }
 },
 "nbformat": 4,
 "nbformat_minor": 5
}
